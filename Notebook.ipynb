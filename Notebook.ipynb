{
 "cells": [
  {
   "cell_type": "markdown",
   "id": "e3b14476",
   "metadata": {},
   "source": [
    "# The notebook"
   ]
  },
  {
   "cell_type": "markdown",
   "id": "b76317cb",
   "metadata": {},
   "source": [
    "## Introduction\n",
    "Hi This is the first notebook by me"
   ]
  },
  {
   "cell_type": "markdown",
   "id": "02a87c25",
   "metadata": {},
   "source": [
    "## Data Science Languages\n",
    "\n",
    "\n",
    "- **Python**: Python is a versatile and widely adopted language known for its simplicity and vast ecosystem of data science libraries, such as NumPy, Pandas, and scikit-learn.\n",
    "\n",
    "- **R**: R is a language specifically designed for statistical computing and data analysis.\n",
    "\n",
    "- **Julia**: Julia is a high-level, high-performance language that focuses on scientific computing.\n",
    "\n",
    "- **SQL**: SQL (Structured Query Language) is essential for working with relational databases. \n",
    "\n",
    "- **Scala**: Scala is a powerful language that seamlessly integrates with Apache Spark, a popular big data processing framework.\n",
    "\n",
    "- **Java**: Java is a widely used general-purpose programming language that also finds applications in data science. \n",
    "\n",
    "- **MATLAB**: MATLAB offers a comprehensive environment for numerical computing, visualization, and algorithm development. \n",
    "\n",
    "These are just a few examples of the languages commonly used in data science.\n"
   ]
  },
  {
   "cell_type": "markdown",
   "id": "1d67ffd4",
   "metadata": {},
   "source": [
    "## Data Science Libraries\n",
    "\n",
    "There are numerous libraries available for data science tasks in different programming languages. Here are some widely used data science libraries:\n",
    "\n",
    "### Python Libraries\n",
    "- **NumPy**: Fundamental library for numerical computing.\n",
    "- **Pandas**: Data manipulation and analysis library.\n",
    "- **scikit-learn**: Machine learning library with various algorithms.\n",
    "- **TensorFlow**: Deep learning library for neural networks.\n",
    "- **PyTorch**: Flexible deep learning library for research and prototyping.\n",
    "- **Matplotlib**: Plotting library for creating visualizations.\n",
    "- **Seaborn**: Statistical data visualization library.\n",
    "- **Keras**: High-level neural networks API.\n",
    "\n",
    "### R Libraries\n",
    "- **dplyr**: Data manipulation and transformation library.\n",
    "- **ggplot2**: Grammar of graphics-based data visualization library.\n",
    "- **caret**: Versatile machine learning library.\n",
    "\n",
    "### Other Libraries\n",
    "- **Apache Spark**: Distributed computing framework for big data processing and machine learning.\n",
    "- **MATLAB**: Toolboxes and libraries for data analysis, signal processing, and machine learning.\n",
    "\n",
    "These are just a few examples of the many data science libraries available. \n"
   ]
  },
  {
   "cell_type": "markdown",
   "id": "210622bb",
   "metadata": {},
   "source": [
    "## Data Science Tools\n",
    "\n",
    "Here's a table of some popular Data Science tools and their key features:\n",
    "\n",
    "| Tool          | Description                                              |\n",
    "|---------------|----------------------------------------------------------|\n",
    "| Python        | Versatile programming language with rich data science libraries and frameworks.                   |\n",
    "| R             | Statistical computing language with extensive data analysis and visualization capabilities.       |\n",
    "| Jupyter Notebook | Interactive web-based environment for creating and sharing code, visualizations, and reports. |\n",
    "| Apache Hadoop | Distributed computing framework for processing and analyzing large datasets.                       |\n",
    "| Apache Spark  | Fast and general-purpose cluster computing system for big data processing and analytics.          |\n",
    "| MATLAB        | Proprietary language and environment for numerical computing, simulation, and data analysis.      |\n",
    "| Tableau       | Data visualization and business intelligence tool for creating interactive dashboards and reports. |\n",
    "| KNIME         | Open-source data analytics platform for visual programming and data integration.                   |\n",
    "\n"
   ]
  },
  {
   "cell_type": "markdown",
   "id": "3011b069",
   "metadata": {},
   "source": [
    "## Arithmetic Expression Examples\n",
    "\n",
    " Arithmetic expressions involve mathematical operations such as addition, subtraction, multiplication, and division. \n",
    "\n",
    "### Addition\n",
    "\n",
    "Addition is used to find the sum of two or more numbers. For example:\n",
    "\n",
    "```python\n",
    "2 + 3  # Result: 5\n"
   ]
  },
  {
   "cell_type": "code",
   "execution_count": 6,
   "id": "82f551f7",
   "metadata": {},
   "outputs": [
    {
     "data": {
      "text/plain": [
       "3"
      ]
     },
     "execution_count": 6,
     "metadata": {},
     "output_type": "execute_result"
    }
   ],
   "source": [
    "8 - 5  # Result: 3\n"
   ]
  },
  {
   "cell_type": "code",
   "execution_count": 7,
   "id": "2bc7ce76",
   "metadata": {},
   "outputs": [
    {
     "data": {
      "text/plain": [
       "20"
      ]
     },
     "execution_count": 7,
     "metadata": {},
     "output_type": "execute_result"
    }
   ],
   "source": [
    "4 * 5  # Result: 20\n"
   ]
  },
  {
   "cell_type": "code",
   "execution_count": 8,
   "id": "cd61b9bc",
   "metadata": {},
   "outputs": [
    {
     "data": {
      "text/plain": [
       "5.0"
      ]
     },
     "execution_count": 8,
     "metadata": {},
     "output_type": "execute_result"
    }
   ],
   "source": [
    "10 / 2  # Result: 5.0\n"
   ]
  },
  {
   "cell_type": "code",
   "execution_count": 9,
   "id": "15f44ec2",
   "metadata": {},
   "outputs": [
    {
     "name": "stdout",
     "output_type": "stream",
     "text": [
      "Multiplication Result: 24\n",
      "Addition Result: 26\n"
     ]
    }
   ],
   "source": [
    "# Multiply and Add Numbers\n",
    "num1 = 4\n",
    "num2 = 6\n",
    "num3 = 2\n",
    "\n",
    "# Multiply num1 and num2\n",
    "result_multiply = num1 * num2\n",
    "\n",
    "# Add the result of multiplication with num3\n",
    "result_add = result_multiply + num3\n",
    "\n",
    "# Print the results\n",
    "print(\"Multiplication Result:\", result_multiply)\n",
    "print(\"Addition Result:\", result_add)"
   ]
  },
  {
   "cell_type": "code",
   "execution_count": 10,
   "id": "0d1119aa",
   "metadata": {},
   "outputs": [
    {
     "name": "stdout",
     "output_type": "stream",
     "text": [
      "Minutes: 150\n",
      "Hours: 2.5\n"
     ]
    }
   ],
   "source": [
    "# Convert Minutes to Hours\n",
    "minutes = 150\n",
    "\n",
    "# Convert minutes to hours\n",
    "hours = minutes / 60\n",
    "\n",
    "# Print the result\n",
    "print(\"Minutes:\", minutes)\n",
    "print(\"Hours:\", hours)"
   ]
  },
  {
   "cell_type": "markdown",
   "id": "82605b58",
   "metadata": {},
   "source": [
    "## Learning Objectives\n",
    "- Create a Jupyter Notebook with markdown and code cells.\n",
    "- List examples of languages, libraries and tools used in Data Science\n",
    "- Share your Jupyter Notebook publicly on GitHub\n",
    "- Evaluate notebooks submitted by your peers using the provided rubric\n",
    "- Demonstrate proficiency in Data Science toolkit knowledge"
   ]
  },
  {
   "cell_type": "markdown",
   "id": "c67fc2dc",
   "metadata": {},
   "source": [
    "## Author\n",
    "\n",
    "This course is taught by: Aije Egwaikhide , Svetlana Levitan and Romeo Kienzler. \n",
    "This notebook is authored by: Abarna Asokan.\n"
   ]
  },
  {
   "cell_type": "code",
   "execution_count": null,
   "id": "43d6662b",
   "metadata": {},
   "outputs": [],
   "source": []
  }
 ],
 "metadata": {
  "kernelspec": {
   "display_name": "Python 3 (ipykernel)",
   "language": "python",
   "name": "python3"
  },
  "language_info": {
   "codemirror_mode": {
    "name": "ipython",
    "version": 3
   },
   "file_extension": ".py",
   "mimetype": "text/x-python",
   "name": "python",
   "nbconvert_exporter": "python",
   "pygments_lexer": "ipython3",
   "version": "3.9.7"
  }
 },
 "nbformat": 4,
 "nbformat_minor": 5
}
